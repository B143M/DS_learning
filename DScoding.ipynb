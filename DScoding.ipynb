{
  "nbformat": 4,
  "nbformat_minor": 0,
  "metadata": {
    "colab": {
      "provenance": [],
      "authorship_tag": "ABX9TyMLZ05D3PzcMukYZINqFvFw",
      "include_colab_link": true
    },
    "kernelspec": {
      "name": "python3",
      "display_name": "Python 3"
    },
    "language_info": {
      "name": "python"
    }
  },
  "cells": [
    {
      "cell_type": "markdown",
      "metadata": {
        "id": "view-in-github",
        "colab_type": "text"
      },
      "source": [
        "<a href=\"https://colab.research.google.com/github/B143M/DS_learning/blob/main/DScoding.ipynb\" target=\"_parent\"><img src=\"https://colab.research.google.com/assets/colab-badge.svg\" alt=\"Open In Colab\"/></a>"
      ]
    },
    {
      "cell_type": "code",
      "execution_count": 7,
      "metadata": {
        "colab": {
          "base_uri": "https://localhost:8080/"
        },
        "id": "OXC_Y7YLOXkq",
        "outputId": "47c5c694-3664-490c-d379-ee82d7984d50"
      },
      "outputs": [
        {
          "output_type": "stream",
          "name": "stdout",
          "text": [
            "BM\n"
          ]
        }
      ],
      "source": [
        "print(\"BM\")"
      ]
    },
    {
      "cell_type": "code",
      "source": [
        "# enter : goes next line in the cess/code block\n",
        "# shift + enter : executes the code in the block & goes to next cell\n",
        "# ctrl + enter : jus executes the code\n",
        "# alt + enter : executes the code & create new block"
      ],
      "metadata": {
        "id": "sQUr9Qp9P_J_"
      },
      "execution_count": 5,
      "outputs": []
    },
    {
      "cell_type": "code",
      "source": [
        "#Types of brackets\n",
        "#[]\n",
        "#{}\n",
        "#()\n"
      ],
      "metadata": {
        "id": "SXH34XDCSjOK"
      },
      "execution_count": null,
      "outputs": []
    },
    {
      "cell_type": "code",
      "source": [],
      "metadata": {
        "id": "vaLEXB6TQBJv"
      },
      "execution_count": null,
      "outputs": []
    }
  ]
}